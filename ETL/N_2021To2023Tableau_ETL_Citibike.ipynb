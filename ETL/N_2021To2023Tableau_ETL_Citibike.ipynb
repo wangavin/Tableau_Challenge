{
 "cells": [
  {
   "cell_type": "code",
   "execution_count": 1,
   "metadata": {},
   "outputs": [],
   "source": [
    "# Library\n",
    "import pandas as pd"
   ]
  },
  {
   "attachments": {},
   "cell_type": "markdown",
   "metadata": {},
   "source": [
    "### 2021 Feb to Dec"
   ]
  },
  {
   "cell_type": "markdown",
   "metadata": {},
   "source": [
    "#combine CSV files in 2021 Feb to Dec\n",
    "imp2021 = ['../ImportData/JC-202102-citibike-tripdata.csv', '../ImportData/JC-202103-citibike-tripdata.csv',\\\n",
    "            '../ImportData/JC-202104-citibike-tripdata.csv', '../ImportData/JC-202105-citibike-tripdata.csv', '../ImportData/JC-202106-citibike-tripdata.csv',\\\n",
    "              '../ImportData/JC-202107-citibike-tripdata.csv', '../ImportData/JC-202108-citibike-tripdata.csv', '../ImportData/JC-202109-citibike-tripdata.csv',\\\n",
    "                '../ImportData/JC-202110-citibike-tripdata.csv', '../ImportData/JC-202111-citibike-tripdata.csv', '../ImportData/JC-202112-citibike-tripdata.csv']\n",
    "\n",
    "# Create an empty list to store each dataframe\n",
    "cb2021df_list = []\n",
    "\n",
    "# Loop through each file in the list\n",
    "for file in imp2021:\n",
    "    # Read the file into a dataframe\n",
    "    cb2021_df = pd.read_csv(file)\n",
    "\n",
    "    # Append the dataframe to the list\n",
    "    cb2021df_list.append(cb2021_df)\n",
    "\n",
    "# Concatenate all dataframes in the list into one dataframe\n",
    "cb2021df = pd.concat(cb2021df_list)\n",
    "\n",
    "# Show dataframe\n",
    "cb2021df.head()"
   ]
  },
  {
   "attachments": {},
   "cell_type": "markdown",
   "metadata": {},
   "source": [
    "# 2022 year to 2023 February"
   ]
  },
  {
   "cell_type": "code",
   "execution_count": null,
   "metadata": {},
   "outputs": [],
   "source": [
    "# List of file names to be combined \n",
    "imp_2022To2023 = ['../ImportData/JC-202102-citibike-tripdata.csv', '../ImportData/JC-202103-citibike-tripdata.csv',\\\n",
    "            '../ImportData/JC-202104-citibike-tripdata.csv', '../ImportData/JC-202105-citibike-tripdata.csv', '../ImportData/JC-202106-citibike-tripdata.csv',\\\n",
    "              '../ImportData/JC-202107-citibike-tripdata.csv', '../ImportData/JC-202108-citibike-tripdata.csv', '../ImportData/JC-202109-citibike-tripdata.csv',\\\n",
    "                '../ImportData/JC-202110-citibike-tripdata.csv', '../ImportData/JC-202111-citibike-tripdata.csv', '../ImportData/JC-202112-citibike-tripdata.csv',\\\n",
    "                    '../ImportData/JC-202201-citibike-tripdata.csv', '../ImportData/JC-202202-citibike-tripdata.csv', '../ImportData/JC-202203-citibike-tripdata.csv',\\\n",
    "                        '../ImportData/JC-202204-citibike-tripdata.csv', '../ImportData/JC-202205-citibike-tripdata.csv', '../ImportData/JC-202206-citibike-tripdata.csv',\\\n",
    "                            '../ImportData/JC-202207-citbike-tripdata.csv', '../ImportData/JC-202208-citibike-tripdata.csv', '../ImportData/JC-202209-citibike-tripdata.csv',\\\n",
    "                                '../ImportData/JC-202210-citibike-tripdata.csv', '../ImportData/JC-202211-citibike-tripdata.csv', '../ImportData/JC-202212-citibike-tripdata.csv',\\\n",
    "                                    '../ImportData/JC-202301-citibike-tripdata.csv', '../ImportData/JC-202302-citibike-tripdata.csv'   ]\n",
    "\n",
    "# Create an empty list to store each dataframe\n",
    "cb2022df_list = []\n",
    "\n",
    "# Loop through each file in the list\n",
    "for file in imp_2022To2023:\n",
    "    # Read the file into a dataframe\n",
    "    cb2022_df = pd.read_csv(file)\n",
    "\n",
    "    # Append the dataframe to the list\n",
    "    cb2022df_list.append(cb2022_df)\n",
    "\n",
    "# Concatenate all dataframes in the list into one dataframe\n",
    "cb2022df = pd.concat(cb2022df_list)\n",
    "\n",
    "# Show dataframe\n",
    "cb2022df.head()\n"
   ]
  }
 ],
 "metadata": {
  "kernelspec": {
   "display_name": "base",
   "language": "python",
   "name": "python3"
  },
  "language_info": {
   "codemirror_mode": {
    "name": "ipython",
    "version": 3
   },
   "file_extension": ".py",
   "mimetype": "text/x-python",
   "name": "python",
   "nbconvert_exporter": "python",
   "pygments_lexer": "ipython3",
   "version": "3.9.13"
  },
  "orig_nbformat": 4
 },
 "nbformat": 4,
 "nbformat_minor": 2
}
